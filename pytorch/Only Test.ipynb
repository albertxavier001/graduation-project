{
 "cells": [
  {
   "cell_type": "code",
   "execution_count": null,
   "metadata": {
    "collapsed": true
   },
   "outputs": [],
   "source": [
    "import numpy as np\n",
    "import cv2\n"
   ]
  },
  {
   "cell_type": "code",
   "execution_count": null,
   "metadata": {
    "collapsed": true
   },
   "outputs": [],
   "source": [
    "\n",
    "im = cv2.imread('/home/lwp/workspace/sintel2/albedo/alley_1/frame_0001.png')\n",
    "ret = im[100:100+256,400:400+256,:]\n",
    "h,w,c = ret.shape\n",
    "s = 2\n",
    "x = ret\n",
    "for i in range(5): \n",
    "    x = cv2.resize(x, (h//2**(i+1),w//2**(i+1)), cv2.INTER_NEAREST)\n",
    "# x = cv2.resize(x, (h//32,w//32), cv2.INTER_NEAREST)\n",
    "y = x\n",
    "for i in range(5): y = cv2.resize(y, (h//2**(4-i),w//2**(4-i)), cv2.INTER_NEAREST)\n",
    "cv2.imwrite('y1.png',y)\n"
   ]
  },
  {
   "cell_type": "code",
   "execution_count": null,
   "metadata": {
    "collapsed": true
   },
   "outputs": [],
   "source": [
    "\n",
    "im = cv2.imread('/home/lwp/workspace/sintel2/albedo/alley_1/frame_0001.png')\n",
    "ret = im[100:100+256,400:400+256,:]\n",
    "h,w,c = ret.shape\n",
    "s = 2\n",
    "x = ret\n",
    "x = cv2.resize(x, (h//32,w//32), cv2.INTER_NEAREST)\n",
    "y = cv2.resize(x, (h,w), cv2.INTER_NEAREST)\n",
    "cv2.imwrite('y.png',y)\n"
   ]
  },
  {
   "cell_type": "code",
   "execution_count": 3,
   "metadata": {},
   "outputs": [
    {
     "name": "stdout",
     "output_type": "stream",
     "text": [
      "[32, 32, 64, 128, 512]\n",
      "81\n",
      "120\n",
      "120\n"
     ]
    }
   ],
   "source": [
    "def calOutputChannel(input_channel, blocks, bn_size=4, growth_rate=32, transition_scale=2):\n",
    "    output_channel = input_channel\n",
    "    sum_ = 0\n",
    "    for b in blocks:\n",
    "        output_channel += b * growth_rate\n",
    "        output_channel //= transition_scale\n",
    "        print (output_channel)\n",
    "    return output_channel\n",
    "\n",
    "a = [64,64,128,256,1024]\n",
    "a = [x//2 for x in a]\n",
    "print (a)\n",
    "\n",
    "# print (calOutputChannel(512, (24,24,24), bn_size=4, growth_rate=32, transition_scale=2))\n",
    "# print (calOutputChannel(1024, (24,24,24), bn_size=4, growth_rate=32, transition_scale=8))\n",
    "print (calOutputChannel(3, (5,5), bn_size=4, growth_rate=32, transition_scale=2))\n",
    "# print (calOutputChannel(1024, (24,24,24), bn_size=4, growth_rate=32, transition_scale=2))\n"
   ]
  },
  {
   "cell_type": "code",
   "execution_count": null,
   "metadata": {
    "collapsed": true
   },
   "outputs": [],
   "source": [
    "from tensorboardX import SummaryWriter\n"
   ]
  },
  {
   "cell_type": "code",
   "execution_count": null,
   "metadata": {
    "collapsed": true
   },
   "outputs": [],
   "source": []
  },
  {
   "cell_type": "code",
   "execution_count": null,
   "metadata": {
    "collapsed": true
   },
   "outputs": [],
   "source": [
    "writer = SummaryWriter(comment='hahaha')\n",
    "writer.add_text('aa','bb')"
   ]
  },
  {
   "cell_type": "code",
   "execution_count": null,
   "metadata": {
    "collapsed": true,
    "scrolled": true
   },
   "outputs": [],
   "source": [
    "import torch\n",
    "import torch.nn as nn\n",
    "from torch.autograd import Variable\n",
    "\n",
    "# x = Variable(torch.ones(2, 2), requires_grad=True)\n",
    "# print(x)\n",
    "\n",
    "class A(nn.Module):\n",
    "    def __init__(self):\n",
    "        super(A, self).__init__()\n",
    "        self.layerA = nn.Sigmoid()\n",
    "    def forward(self, x):\n",
    "        return self.layerA(x)\n",
    "class B(nn.Module):\n",
    "    def __init__(self):\n",
    "        super(B, self).__init__()\n",
    "        self.layerB = nn.Sigmoid()\n",
    "    def forward(self, x):\n",
    "        return self.layerB(x)\n",
    "a = A().cuda(2)\n",
    "b = B().cuda(3)\n",
    "x = Variable(torch.ones(2, 2), requires_grad=True).cuda(2)\n",
    "print(x)\n",
    "y1 = a(x)\n",
    "print(y1)\n",
    "y2 = y1.cuda(3)\n",
    "print(y2)\n",
    "z = b(y2)\n",
    "print(z)\n",
    "print(z.grad_fn)\n",
    "print(z.grad_fn.next_functions[0][0])\n",
    "print(z.grad_fn.next_functions[0][0].next_functions[0][0])\n"
   ]
  },
  {
   "cell_type": "code",
   "execution_count": null,
   "metadata": {
    "collapsed": true
   },
   "outputs": [],
   "source": [
    "# Create tensors.\n",
    "x = Variable(torch.Tensor([1]), requires_grad=True)\n",
    "w = Variable(torch.Tensor([2]), requires_grad=True)\n",
    "b = Variable(torch.Tensor([3]), requires_grad=True)\n",
    "\n",
    "# Build a computational graph.\n",
    "y = w * x + b    # y = 2 * x + 3\n",
    "\n",
    "# Compute gradients.\n",
    "y.backward()\n",
    "\n",
    "# Print out the gradients.\n",
    "print(x.grad)    # x.grad = 2 \n",
    "print(w.grad)    # w.grad = 1 \n",
    "print(b.grad)    # b.grad = 1 "
   ]
  },
  {
   "cell_type": "code",
   "execution_count": null,
   "metadata": {
    "collapsed": true
   },
   "outputs": [],
   "source": [
    "class Foo(object):\n",
    "    class Bar(object):\n",
    "        pass\n",
    "    def __init__(self):\n",
    "        self.bar = self.Bar()\n",
    "\n",
    "foo = Foo()"
   ]
  },
  {
   "cell_type": "code",
   "execution_count": null,
   "metadata": {
    "collapsed": true
   },
   "outputs": [],
   "source": [
    "def func():\n",
    "    return 2, []\n",
    "a,b = func()\n",
    "print(a,b)"
   ]
  },
  {
   "cell_type": "code",
   "execution_count": null,
   "metadata": {
    "collapsed": true,
    "scrolled": true
   },
   "outputs": [],
   "source": [
    "import torch\n",
    "import torch.nn as nn\n",
    "from torch.autograd import Variable\n",
    "x = Variable(torch.Tensor([[2,3,4],[3,4,5]]))\n",
    "h,w=x.size()\n",
    "print(h,w)"
   ]
  },
  {
   "cell_type": "code",
   "execution_count": null,
   "metadata": {
    "collapsed": true
   },
   "outputs": [],
   "source": [
    "from tensorboardX import SummaryWriter\n",
    "from myargs import Args\n",
    "\n",
    "ss = 6\n",
    "s0 = ss*2\n",
    "args = Args()\n",
    "args.display_curindex = 0\n",
    "args.base_lr = 0.05\n",
    "args.display_interval = 20\n",
    "args.momentum = 0.9\n",
    "args.epoches = 120\n",
    "args.training_thresholds = [0,0,0,0,0,s0]\n",
    "args.training_merge_thresholds = [s0+ss*9,s0+ss*6, s0+ss*3, s0, -1, s0+ss*12]\n",
    "args.power = 0.5\n",
    "\n",
    "writer = SummaryWriter(comment='-{}'.format('test lr'))\n",
    "optimizer=None\n",
    "lr = args.base_lr\n",
    "def adjust_learning_rate(optimizer, epoch, beg, end, reset_lr=None):\n",
    "    \"\"\"Sets the learning rate to the initial LR decayed by 10 every 30 epochs\"\"\"\n",
    "    global lr\n",
    "    print('adjust', epoch, beg, end, lr)\n",
    "    lr = args.base_lr * (float(end-epoch)/(end-beg)) ** (args.power)\n",
    "    if lr < 1.0e-8: lr = 1.0e-8\n",
    "        \n",
    "        \n",
    "  \n",
    "    writer.add_scalar('lr', lr, global_step=epoch)\n",
    "    "
   ]
  },
  {
   "cell_type": "code",
   "execution_count": 12,
   "metadata": {},
   "outputs": [
    {
     "data": {
      "text/plain": [
       "160"
      ]
     },
     "execution_count": 12,
     "metadata": {},
     "output_type": "execute_result"
    }
   ],
   "source": [
    "32 * 5"
   ]
  }
 ],
 "metadata": {
  "kernelspec": {
   "display_name": "Python 3",
   "language": "python",
   "name": "python3"
  },
  "language_info": {
   "codemirror_mode": {
    "name": "ipython",
    "version": 3
   },
   "file_extension": ".py",
   "mimetype": "text/x-python",
   "name": "python",
   "nbconvert_exporter": "python",
   "pygments_lexer": "ipython3",
   "version": "3.6.3"
  }
 },
 "nbformat": 4,
 "nbformat_minor": 2
}
