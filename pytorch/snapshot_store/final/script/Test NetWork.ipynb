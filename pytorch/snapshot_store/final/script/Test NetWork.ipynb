{
 "cells": [
  {
   "cell_type": "code",
   "execution_count": null,
   "metadata": {
    "collapsed": true
   },
   "outputs": [],
   "source": [
    "import os, glob, platform, datetime, random\n",
    "from collections import OrderedDict\n",
    "\n",
    "import torch\n",
    "import torch.nn as nn\n",
    "import torch.utils.data as data_utils\n",
    "import torch.nn.parallel\n",
    "import torch.backends.cudnn as cudnn\n",
    "import torch.optim as optim\n",
    "from torch.autograd import Variable\n",
    "from torch import functional as F\n",
    "# import torchvision.datasets as datasets\n",
    "import torchvision.models as models\n",
    "import torchvision.transforms as transforms\n",
    "\n",
    "import cv2\n",
    "from PIL import Image\n",
    "from tensorboardX import SummaryWriter\n",
    "\n",
    "import numpy as np\n",
    "from numpy.linalg import inv as denseinv\n",
    "from scipy import sparse\n",
    "from scipy.sparse import lil_matrix, csr_matrix\n",
    "from scipy.sparse.linalg import spsolve\n",
    "from scipy.sparse.linalg import inv as spinv\n",
    "import scipy.misc\n",
    "\n",
    "from myimagefolder import MyImageFolder\n",
    "from mymodel import GradientNet\n",
    "from myargs import Args"
   ]
  },
  {
   "cell_type": "code",
   "execution_count": null,
   "metadata": {},
   "outputs": [],
   "source": [
    "# https://discuss.pytorch.org/t/on-a-cpu-device-how-to-load-checkpoint-saved-on-gpu-device/349\n",
    "# snapshot = torch.load('snapshot_store/concat/snapshot-239.pth.tar')\n",
    "snapshot = torch.load('./snapshot2/snapshot-239.pth.tar')\n"
   ]
  },
  {
   "cell_type": "code",
   "execution_count": null,
   "metadata": {},
   "outputs": [],
   "source": [
    "# state_dict = snapshot['state_dict']\n",
    "# for k,v in enumerate(state_dict):\n",
    "#     print(k,v)"
   ]
  },
  {
   "cell_type": "code",
   "execution_count": null,
   "metadata": {},
   "outputs": [],
   "source": [
    "# torch.cuda.set_device(0)\n",
    "gpu_num = 2\n",
    "state_dict = snapshot['state_dict']\n",
    "args = snapshot['args']\n",
    "densenet = models.__dict__[args.arch](pretrained=True).cuda(gpu_num)\n",
    "# pretrained = PreTrainedModel(densenet).cuda(gpu_num)\n",
    "# net = GradientNet(pretrained).cuda(gpu_num)\n",
    "net = GradientNet(densenet=densenet, growth_rate=32, \n",
    "                  transition_scale=2, pretrained_scale=4,\n",
    "                 gradient=True).cuda(gpu_num)\n",
    "net.load_state_dict(state_dict)"
   ]
  },
  {
   "cell_type": "code",
   "execution_count": null,
   "metadata": {},
   "outputs": [],
   "source": [
    "# pretrained.train()\n",
    "net.train()"
   ]
  },
  {
   "cell_type": "code",
   "execution_count": null,
   "metadata": {
    "scrolled": true
   },
   "outputs": [],
   "source": [
    "def loadimg(path):\n",
    "    im = Image.open(path).convert('RGB')\n",
    "#     im = im.resize((512, 256))\n",
    "    print(im.size)\n",
    "    im = transforms.ToTensor()(im)\n",
    "#     x = torch.zeros(1,3,416,32*22)\n",
    "#     x[0,:,:,:] = im[:,0:416,220:220+32*22]\n",
    "    x = torch.zeros(1,3,416,1024)\n",
    "    x[0,:,:,:] = im[:,0:416,:]\n",
    "    x = Variable(x)\n",
    "    return x\n",
    "\n",
    "im = loadimg('/home/lwp/workspace/sintel2/clean/alley_1/frame_0010.png').cuda(gpu_num)\n",
    "# gt = cv2.imwrite('/home/cad/lwp/workspace/dataset/sintel2/albedo/alley_1/frame_0010.png')\n",
    "\n",
    "# ft_pretrained = pretrained(im.cuda(3))\n",
    "predict, mergeRGB = net(im.cuda(gpu_num), go_through_merge=True)\n"
   ]
  },
  {
   "cell_type": "code",
   "execution_count": null,
   "metadata": {},
   "outputs": [],
   "source": [
    "merged = mergeRGB[5]\n",
    "merged = merged[0]\n",
    "merged = merged.cpu().data.numpy()\n",
    "print (merged.shape)\n",
    "merged = merged.transpose(1,2,0)\n",
    "print (merged.shape)\n",
    "dy = merged[:,:,0:3]+0.5\n",
    "dx = merged[:,:,3:6]+0.5\n",
    "cv2.imwrite('out_merge_dx.png', dx[:,:,::-1]*255)\n",
    "cv2.imwrite('out_merge_dy.png', dy[:,:,::-1]*255)\n"
   ]
  },
  {
   "cell_type": "code",
   "execution_count": null,
   "metadata": {},
   "outputs": [],
   "source": [
    "len(mergeRGB)"
   ]
  },
  {
   "cell_type": "code",
   "execution_count": null,
   "metadata": {},
   "outputs": [],
   "source": [
    "%clear -a -f"
   ]
  },
  {
   "cell_type": "code",
   "execution_count": null,
   "metadata": {},
   "outputs": [],
   "source": [
    "3647.*1024./416.\n",
    "3951.*1024./416.\n"
   ]
  }
 ],
 "metadata": {
  "kernelspec": {
   "display_name": "Python 3",
   "language": "python",
   "name": "python3"
  },
  "language_info": {
   "codemirror_mode": {
    "name": "ipython",
    "version": 3
   },
   "file_extension": ".py",
   "mimetype": "text/x-python",
   "name": "python",
   "nbconvert_exporter": "python",
   "pygments_lexer": "ipython3",
   "version": "3.6.3"
  }
 },
 "nbformat": 4,
 "nbformat_minor": 2
}
